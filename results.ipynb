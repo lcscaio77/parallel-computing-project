{
 "cells": [
  {
   "cell_type": "code",
   "execution_count": 16,
   "metadata": {},
   "outputs": [],
   "source": [
    "import pandas as pd\n",
    "import plotly.graph_objects as go"
   ]
  },
  {
   "cell_type": "code",
   "execution_count": 17,
   "metadata": {},
   "outputs": [],
   "source": [
    "seq_computing_results = pd.read_csv(\"./results/computing_times_seq.txt\")\n",
    "par_step_2_computing_results = pd.read_csv(\"./results/computing_times_par_step_2.txt\")\n",
    "par_step_3_computing_results = pd.read_csv(\"./results/computing_times_par_step_3.txt\")\n",
    "\n",
    "seq_rendering_results = pd.read_csv(\"./results/rendering_times_seq.txt\")\n",
    "par_step_2_rendering_results = pd.read_csv(\"./results/rendering_times_par_step_2.txt\")\n",
    "par_step_3_rendering_results = pd.read_csv(\"./results/rendering_times_par_step_3.txt\")"
   ]
  },
  {
   "cell_type": "code",
   "execution_count": 46,
   "metadata": {},
   "outputs": [
    {
     "data": {
      "application/vnd.plotly.v1+json": {
       "config": {
        "plotlyServerURL": "https://plot.ly"
       },
       "data": [
        {
         "line": {
          "color": "darkblue"
         },
         "name": "Calcul séquentiel",
         "type": "scatter",
         "x": {
          "bdata": "AAABAAIAAwAEAAUABgAHAAgACQAKAAsADAANAA4ADwAQABEAEgATABQAFQAWABcAGAAZABoAGwAcAB0AHgAfACAAIQAiACMAJAAlACYAJwAoACkAKgArACwALQAuAC8AMAAxADIAMwA0ADUANgA3ADgAOQA6ADsAPAA9AD4APwBAAEEAQgBDAEQARQBGAEcASABJAEoASwBMAE0ATgBPAFAAUQBSAFMAVABVAFYAVwBYAFkAWgBbAFwAXQBeAF8AYABhAGIAYwBkAGUAZgBnAGgAaQBqAGsAbABtAG4AbwBwAHEAcgBzAHQAdQB2AHcAeAB5AHoAewB8AH0AfgB/AIAAgQCCAIMAhACFAIYAhwCIAIkAigCLAIwAjQCOAI8AkACRAJIAkwCUAJUAlgCXAJgAmQCaAJsAnACdAJ4AnwCgAKEAogCjAKQApQCmAKcAqACpAKoAqwCsAK0ArgCvALAAsQCyALMAtAC1ALYAtwC4ALkAugC7ALwAvQC+AL8AwADBAMIAwwDEAMUAxgDHAMgAyQDKAMsAzADNAM4AzwDQANEA0gDTANQA1QDWANcA2ADZANoA2wDcAN0A3gDfAOAA4QDiAOMA5ADlAOYA5wDoAOkA6gDrAOwA7QDuAO8A8ADxAPIA8wD0APUA9gD3APgA+QD6APsA/AD9AP4A/wAAAQEBAgEDAQQBBQEGAQcBCAEJAQoBCwEMAQ0BDgEPARABEQESARMBFAEVARYBFwEYARkBGgEbARwBHQEeAR8BIAEhASIBIwEkASUBJgEnASgBKQEqASsBLAEtAS4BLwEwATEBMgEzATQBNQE2ATcBOAE5AToBOwE8AT0BPgE/AUABQQFCAUMBRAFFAUYBRwFIAUkBSgFLAUwBTQFOAU8BUAFRAVIBUwFUAVUBVgFXAVgBWQFaAVsBXAFdAV4BXwFgAWEBYgFjAWQBZQFmAWcBaAFpAWoBawFsAW0BbgFvAXABcQFyAXMBdAF1AXYBdwF4AXkBegF7AXwBfQF+AX8BgAGBAYIBgwGEAYUBhgGHAYgBiQGKAYsBjAGNAY4BjwE=",
          "dtype": "i2"
         },
         "y": {
          "bdata": "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",
          "dtype": "f8"
         }
        },
        {
         "line": {
          "color": "darkgreen"
         },
         "name": "Calcul parallèle (2 processus)",
         "type": "scatter",
         "x": {
          "bdata": "AAABAAIAAwAEAAUABgAHAAgACQAKAAsADAANAA4ADwAQABEAEgATABQAFQAWABcAGAAZABoAGwAcAB0AHgAfACAAIQAiACMAJAAlACYAJwAoACkAKgArACwALQAuAC8AMAAxADIAMwA0ADUANgA3ADgAOQA6ADsAPAA9AD4APwBAAEEAQgBDAEQARQBGAEcASABJAEoASwBMAE0ATgBPAFAAUQBSAFMAVABVAFYAVwBYAFkAWgBbAFwAXQBeAF8AYABhAGIAYwBkAGUAZgBnAGgAaQBqAGsAbABtAG4AbwBwAHEAcgBzAHQAdQB2AHcAeAB5AHoAewB8AH0AfgB/AIAAgQCCAIMAhACFAIYAhwCIAIkAigCLAIwAjQCOAI8AkACRAJIAkwCUAJUAlgCXAJgAmQCaAJsAnACdAJ4AnwCgAKEAogCjAKQApQCmAKcAqACpAKoAqwCsAK0ArgCvALAAsQCyALMAtAC1ALYAtwC4ALkAugC7ALwAvQC+AL8AwADBAMIAwwDEAMUAxgDHAMgAyQDKAMsAzADNAM4AzwDQANEA0gDTANQA1QDWANcA2ADZANoA2wDcAN0A3gDfAOAA4QDiAOMA5ADlAOYA5wDoAOkA6gDrAOwA7QDuAO8A8ADxAPIA8wD0APUA9gD3APgA+QD6APsA/AD9AP4A/wAAAQEBAgEDAQQBBQEGAQcBCAEJAQoBCwEMAQ0BDgEPARABEQESARMBFAEVARYBFwEYARkBGgEbARwBHQEeAR8BIAEhASIBIwEkASUBJgEnASgBKQEqASsBLAEtAS4BLwEwATEBMgEzATQBNQE2ATcBOAE5AToBOwE8AT0BPgE/AUABQQFCAUMBRAFFAUYBRwFIAUkBSgFLAUwBTQFOAU8BUAFRAVIBUwFUAVUBVgFXAVgBWQFaAVsBXAFdAV4BXwFgAWEBYgFjAWQBZQFmAWcBaAFpAWoBawFsAW0BbgFvAXABcQFyAXMBdAF1AXYBdwF4AXkBegF7AXwBfQF+AX8BgAGBAYIBgwGEAYUBhgGHAYgBiQGKAYsBjAGNAY4BjwE=",
          "dtype": "i2"
         },
         "y": {
          "bdata": "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",
          "dtype": "f8"
         }
        },
        {
         "line": {
          "color": "darkred"
         },
         "name": "Calcul parallèle (4 processus)",
         "type": "scatter",
         "x": {
          "bdata": "AAABAAIAAwAEAAUABgAHAAgACQAKAAsADAANAA4ADwAQABEAEgATABQAFQAWABcAGAAZABoAGwAcAB0AHgAfACAAIQAiACMAJAAlACYAJwAoACkAKgArACwALQAuAC8AMAAxADIAMwA0ADUANgA3ADgAOQA6ADsAPAA9AD4APwBAAEEAQgBDAEQARQBGAEcASABJAEoASwBMAE0ATgBPAFAAUQBSAFMAVABVAFYAVwBYAFkAWgBbAFwAXQBeAF8AYABhAGIAYwBkAGUAZgBnAGgAaQBqAGsAbABtAG4AbwBwAHEAcgBzAHQAdQB2AHcAeAB5AHoAewB8AH0AfgB/AIAAgQCCAIMAhACFAIYAhwCIAIkAigCLAIwAjQCOAI8AkACRAJIAkwCUAJUAlgCXAJgAmQCaAJsAnACdAJ4AnwCgAKEAogCjAKQApQCmAKcAqACpAKoAqwCsAK0ArgCvALAAsQCyALMAtAC1ALYAtwC4ALkAugC7ALwAvQC+AL8AwADBAMIAwwDEAMUAxgDHAMgAyQDKAMsAzADNAM4AzwDQANEA0gDTANQA1QDWANcA2ADZANoA2wDcAN0A3gDfAOAA4QDiAOMA5ADlAOYA5wDoAOkA6gDrAOwA7QDuAO8A8ADxAPIA8wD0APUA9gD3APgA+QD6APsA/AD9AP4A/wAAAQEBAgEDAQQBBQEGAQcBCAEJAQoBCwEMAQ0BDgEPARABEQESARMBFAEVARYBFwEYARkBGgEbARwBHQEeAR8BIAEhASIBIwEkASUBJgEnASgBKQEqASsBLAEtAS4BLwEwATEBMgEzATQBNQE2ATcBOAE5AToBOwE8AT0BPgE/AUABQQFCAUMBRAFFAUYBRwFIAUkBSgFLAUwBTQFOAU8BUAFRAVIBUwFUAVUBVgFXAVgBWQFaAVsBXAFdAV4BXwFgAWEBYgFjAWQBZQFmAWcBaAFpAWoBawFsAW0BbgFvAXABcQFyAXMBdAF1AXYBdwF4AXkBegF7AXwBfQF+AX8BgAGBAYIBgwGEAYUBhgGHAYgBiQGKAYsBjAGNAY4BjwE=",
          "dtype": "i2"
         },
         "y": {
          "bdata": "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",
          "dtype": "f8"
         }
        }
       ],
       "layout": {
        "template": {
         "data": {
          "bar": [
           {
            "error_x": {
             "color": "#2a3f5f"
            },
            "error_y": {
             "color": "#2a3f5f"
            },
            "marker": {
             "line": {
              "color": "white",
              "width": 0.5
             },
             "pattern": {
              "fillmode": "overlay",
              "size": 10,
              "solidity": 0.2
             }
            },
            "type": "bar"
           }
          ],
          "barpolar": [
           {
            "marker": {
             "line": {
              "color": "white",
              "width": 0.5
             },
             "pattern": {
              "fillmode": "overlay",
              "size": 10,
              "solidity": 0.2
             }
            },
            "type": "barpolar"
           }
          ],
          "carpet": [
           {
            "aaxis": {
             "endlinecolor": "#2a3f5f",
             "gridcolor": "#C8D4E3",
             "linecolor": "#C8D4E3",
             "minorgridcolor": "#C8D4E3",
             "startlinecolor": "#2a3f5f"
            },
            "baxis": {
             "endlinecolor": "#2a3f5f",
             "gridcolor": "#C8D4E3",
             "linecolor": "#C8D4E3",
             "minorgridcolor": "#C8D4E3",
             "startlinecolor": "#2a3f5f"
            },
            "type": "carpet"
           }
          ],
          "choropleth": [
           {
            "colorbar": {
             "outlinewidth": 0,
             "ticks": ""
            },
            "type": "choropleth"
           }
          ],
          "contour": [
           {
            "colorbar": {
             "outlinewidth": 0,
             "ticks": ""
            },
            "colorscale": [
             [
              0,
              "#0d0887"
             ],
             [
              0.1111111111111111,
              "#46039f"
             ],
             [
              0.2222222222222222,
              "#7201a8"
             ],
             [
              0.3333333333333333,
              "#9c179e"
             ],
             [
              0.4444444444444444,
              "#bd3786"
             ],
             [
              0.5555555555555556,
              "#d8576b"
             ],
             [
              0.6666666666666666,
              "#ed7953"
             ],
             [
              0.7777777777777778,
              "#fb9f3a"
             ],
             [
              0.8888888888888888,
              "#fdca26"
             ],
             [
              1,
              "#f0f921"
             ]
            ],
            "type": "contour"
           }
          ],
          "contourcarpet": [
           {
            "colorbar": {
             "outlinewidth": 0,
             "ticks": ""
            },
            "type": "contourcarpet"
           }
          ],
          "heatmap": [
           {
            "colorbar": {
             "outlinewidth": 0,
             "ticks": ""
            },
            "colorscale": [
             [
              0,
              "#0d0887"
             ],
             [
              0.1111111111111111,
              "#46039f"
             ],
             [
              0.2222222222222222,
              "#7201a8"
             ],
             [
              0.3333333333333333,
              "#9c179e"
             ],
             [
              0.4444444444444444,
              "#bd3786"
             ],
             [
              0.5555555555555556,
              "#d8576b"
             ],
             [
              0.6666666666666666,
              "#ed7953"
             ],
             [
              0.7777777777777778,
              "#fb9f3a"
             ],
             [
              0.8888888888888888,
              "#fdca26"
             ],
             [
              1,
              "#f0f921"
             ]
            ],
            "type": "heatmap"
           }
          ],
          "histogram": [
           {
            "marker": {
             "pattern": {
              "fillmode": "overlay",
              "size": 10,
              "solidity": 0.2
             }
            },
            "type": "histogram"
           }
          ],
          "histogram2d": [
           {
            "colorbar": {
             "outlinewidth": 0,
             "ticks": ""
            },
            "colorscale": [
             [
              0,
              "#0d0887"
             ],
             [
              0.1111111111111111,
              "#46039f"
             ],
             [
              0.2222222222222222,
              "#7201a8"
             ],
             [
              0.3333333333333333,
              "#9c179e"
             ],
             [
              0.4444444444444444,
              "#bd3786"
             ],
             [
              0.5555555555555556,
              "#d8576b"
             ],
             [
              0.6666666666666666,
              "#ed7953"
             ],
             [
              0.7777777777777778,
              "#fb9f3a"
             ],
             [
              0.8888888888888888,
              "#fdca26"
             ],
             [
              1,
              "#f0f921"
             ]
            ],
            "type": "histogram2d"
           }
          ],
          "histogram2dcontour": [
           {
            "colorbar": {
             "outlinewidth": 0,
             "ticks": ""
            },
            "colorscale": [
             [
              0,
              "#0d0887"
             ],
             [
              0.1111111111111111,
              "#46039f"
             ],
             [
              0.2222222222222222,
              "#7201a8"
             ],
             [
              0.3333333333333333,
              "#9c179e"
             ],
             [
              0.4444444444444444,
              "#bd3786"
             ],
             [
              0.5555555555555556,
              "#d8576b"
             ],
             [
              0.6666666666666666,
              "#ed7953"
             ],
             [
              0.7777777777777778,
              "#fb9f3a"
             ],
             [
              0.8888888888888888,
              "#fdca26"
             ],
             [
              1,
              "#f0f921"
             ]
            ],
            "type": "histogram2dcontour"
           }
          ],
          "mesh3d": [
           {
            "colorbar": {
             "outlinewidth": 0,
             "ticks": ""
            },
            "type": "mesh3d"
           }
          ],
          "parcoords": [
           {
            "line": {
             "colorbar": {
              "outlinewidth": 0,
              "ticks": ""
             }
            },
            "type": "parcoords"
           }
          ],
          "pie": [
           {
            "automargin": true,
            "type": "pie"
           }
          ],
          "scatter": [
           {
            "fillpattern": {
             "fillmode": "overlay",
             "size": 10,
             "solidity": 0.2
            },
            "type": "scatter"
           }
          ],
          "scatter3d": [
           {
            "line": {
             "colorbar": {
              "outlinewidth": 0,
              "ticks": ""
             }
            },
            "marker": {
             "colorbar": {
              "outlinewidth": 0,
              "ticks": ""
             }
            },
            "type": "scatter3d"
           }
          ],
          "scattercarpet": [
           {
            "marker": {
             "colorbar": {
              "outlinewidth": 0,
              "ticks": ""
             }
            },
            "type": "scattercarpet"
           }
          ],
          "scattergeo": [
           {
            "marker": {
             "colorbar": {
              "outlinewidth": 0,
              "ticks": ""
             }
            },
            "type": "scattergeo"
           }
          ],
          "scattergl": [
           {
            "marker": {
             "colorbar": {
              "outlinewidth": 0,
              "ticks": ""
             }
            },
            "type": "scattergl"
           }
          ],
          "scattermap": [
           {
            "marker": {
             "colorbar": {
              "outlinewidth": 0,
              "ticks": ""
             }
            },
            "type": "scattermap"
           }
          ],
          "scattermapbox": [
           {
            "marker": {
             "colorbar": {
              "outlinewidth": 0,
              "ticks": ""
             }
            },
            "type": "scattermapbox"
           }
          ],
          "scatterpolar": [
           {
            "marker": {
             "colorbar": {
              "outlinewidth": 0,
              "ticks": ""
             }
            },
            "type": "scatterpolar"
           }
          ],
          "scatterpolargl": [
           {
            "marker": {
             "colorbar": {
              "outlinewidth": 0,
              "ticks": ""
             }
            },
            "type": "scatterpolargl"
           }
          ],
          "scatterternary": [
           {
            "marker": {
             "colorbar": {
              "outlinewidth": 0,
              "ticks": ""
             }
            },
            "type": "scatterternary"
           }
          ],
          "surface": [
           {
            "colorbar": {
             "outlinewidth": 0,
             "ticks": ""
            },
            "colorscale": [
             [
              0,
              "#0d0887"
             ],
             [
              0.1111111111111111,
              "#46039f"
             ],
             [
              0.2222222222222222,
              "#7201a8"
             ],
             [
              0.3333333333333333,
              "#9c179e"
             ],
             [
              0.4444444444444444,
              "#bd3786"
             ],
             [
              0.5555555555555556,
              "#d8576b"
             ],
             [
              0.6666666666666666,
              "#ed7953"
             ],
             [
              0.7777777777777778,
              "#fb9f3a"
             ],
             [
              0.8888888888888888,
              "#fdca26"
             ],
             [
              1,
              "#f0f921"
             ]
            ],
            "type": "surface"
           }
          ],
          "table": [
           {
            "cells": {
             "fill": {
              "color": "#EBF0F8"
             },
             "line": {
              "color": "white"
             }
            },
            "header": {
             "fill": {
              "color": "#C8D4E3"
             },
             "line": {
              "color": "white"
             }
            },
            "type": "table"
           }
          ]
         },
         "layout": {
          "annotationdefaults": {
           "arrowcolor": "#2a3f5f",
           "arrowhead": 0,
           "arrowwidth": 1
          },
          "autotypenumbers": "strict",
          "coloraxis": {
           "colorbar": {
            "outlinewidth": 0,
            "ticks": ""
           }
          },
          "colorscale": {
           "diverging": [
            [
             0,
             "#8e0152"
            ],
            [
             0.1,
             "#c51b7d"
            ],
            [
             0.2,
             "#de77ae"
            ],
            [
             0.3,
             "#f1b6da"
            ],
            [
             0.4,
             "#fde0ef"
            ],
            [
             0.5,
             "#f7f7f7"
            ],
            [
             0.6,
             "#e6f5d0"
            ],
            [
             0.7,
             "#b8e186"
            ],
            [
             0.8,
             "#7fbc41"
            ],
            [
             0.9,
             "#4d9221"
            ],
            [
             1,
             "#276419"
            ]
           ],
           "sequential": [
            [
             0,
             "#0d0887"
            ],
            [
             0.1111111111111111,
             "#46039f"
            ],
            [
             0.2222222222222222,
             "#7201a8"
            ],
            [
             0.3333333333333333,
             "#9c179e"
            ],
            [
             0.4444444444444444,
             "#bd3786"
            ],
            [
             0.5555555555555556,
             "#d8576b"
            ],
            [
             0.6666666666666666,
             "#ed7953"
            ],
            [
             0.7777777777777778,
             "#fb9f3a"
            ],
            [
             0.8888888888888888,
             "#fdca26"
            ],
            [
             1,
             "#f0f921"
            ]
           ],
           "sequentialminus": [
            [
             0,
             "#0d0887"
            ],
            [
             0.1111111111111111,
             "#46039f"
            ],
            [
             0.2222222222222222,
             "#7201a8"
            ],
            [
             0.3333333333333333,
             "#9c179e"
            ],
            [
             0.4444444444444444,
             "#bd3786"
            ],
            [
             0.5555555555555556,
             "#d8576b"
            ],
            [
             0.6666666666666666,
             "#ed7953"
            ],
            [
             0.7777777777777778,
             "#fb9f3a"
            ],
            [
             0.8888888888888888,
             "#fdca26"
            ],
            [
             1,
             "#f0f921"
            ]
           ]
          },
          "colorway": [
           "#636efa",
           "#EF553B",
           "#00cc96",
           "#ab63fa",
           "#FFA15A",
           "#19d3f3",
           "#FF6692",
           "#B6E880",
           "#FF97FF",
           "#FECB52"
          ],
          "font": {
           "color": "#2a3f5f"
          },
          "geo": {
           "bgcolor": "white",
           "lakecolor": "white",
           "landcolor": "white",
           "showlakes": true,
           "showland": true,
           "subunitcolor": "#C8D4E3"
          },
          "hoverlabel": {
           "align": "left"
          },
          "hovermode": "closest",
          "mapbox": {
           "style": "light"
          },
          "paper_bgcolor": "white",
          "plot_bgcolor": "white",
          "polar": {
           "angularaxis": {
            "gridcolor": "#EBF0F8",
            "linecolor": "#EBF0F8",
            "ticks": ""
           },
           "bgcolor": "white",
           "radialaxis": {
            "gridcolor": "#EBF0F8",
            "linecolor": "#EBF0F8",
            "ticks": ""
           }
          },
          "scene": {
           "xaxis": {
            "backgroundcolor": "white",
            "gridcolor": "#DFE8F3",
            "gridwidth": 2,
            "linecolor": "#EBF0F8",
            "showbackground": true,
            "ticks": "",
            "zerolinecolor": "#EBF0F8"
           },
           "yaxis": {
            "backgroundcolor": "white",
            "gridcolor": "#DFE8F3",
            "gridwidth": 2,
            "linecolor": "#EBF0F8",
            "showbackground": true,
            "ticks": "",
            "zerolinecolor": "#EBF0F8"
           },
           "zaxis": {
            "backgroundcolor": "white",
            "gridcolor": "#DFE8F3",
            "gridwidth": 2,
            "linecolor": "#EBF0F8",
            "showbackground": true,
            "ticks": "",
            "zerolinecolor": "#EBF0F8"
           }
          },
          "shapedefaults": {
           "line": {
            "color": "#2a3f5f"
           }
          },
          "ternary": {
           "aaxis": {
            "gridcolor": "#DFE8F3",
            "linecolor": "#A2B1C6",
            "ticks": ""
           },
           "baxis": {
            "gridcolor": "#DFE8F3",
            "linecolor": "#A2B1C6",
            "ticks": ""
           },
           "bgcolor": "white",
           "caxis": {
            "gridcolor": "#DFE8F3",
            "linecolor": "#A2B1C6",
            "ticks": ""
           }
          },
          "title": {
           "x": 0.05
          },
          "xaxis": {
           "automargin": true,
           "gridcolor": "#EBF0F8",
           "linecolor": "#EBF0F8",
           "ticks": "",
           "title": {
            "standoff": 15
           },
           "zerolinecolor": "#EBF0F8",
           "zerolinewidth": 2
          },
          "yaxis": {
           "automargin": true,
           "gridcolor": "#EBF0F8",
           "linecolor": "#EBF0F8",
           "ticks": "",
           "title": {
            "standoff": 15
           },
           "zerolinecolor": "#EBF0F8",
           "zerolinewidth": 2
          }
         }
        },
        "title": {
         "text": "Évolution du temps de calcul au fil des itérations"
        },
        "xaxis": {
         "title": {
          "text": "Itération"
         }
        },
        "yaxis": {
         "title": {
          "text": "Temps de calcul (en ms)"
         }
        }
       }
      }
     },
     "metadata": {},
     "output_type": "display_data"
    }
   ],
   "source": [
    "fig = go.Figure()\n",
    "\n",
    "fig.add_trace(go.Scatter(\n",
    "    x=seq_computing_results.index,\n",
    "    y=seq_computing_results[\"Computing time\"],\n",
    "    name=\"Calcul séquentiel\",\n",
    "    line=dict(color=\"darkblue\")\n",
    "))\n",
    "\n",
    "fig.add_trace(go.Scatter(\n",
    "    x=par_step_2_computing_results.index,\n",
    "    y=par_step_2_computing_results[\"Computing time\"],\n",
    "    name=\"Calcul parallèle (2 processus)\",\n",
    "    line=dict(color=\"darkgreen\")\n",
    "))\n",
    "\n",
    "fig.add_trace(go.Scatter(\n",
    "    x=par_step_3_computing_results.index,\n",
    "    y=par_step_3_computing_results[\"Computing time\"],\n",
    "    name=\"Calcul parallèle (4 processus)\",\n",
    "    line=dict(color=\"darkred\")\n",
    "))\n",
    "\n",
    "fig.update_layout(\n",
    "    title=\"Évolution du temps de calcul au fil des itérations\",\n",
    "    xaxis_title=\"Itération\",\n",
    "    yaxis_title=\"Temps de calcul (en ms)\",\n",
    "    template=\"plotly_white\"\n",
    ")\n",
    "\n",
    "fig.show()"
   ]
  },
  {
   "cell_type": "code",
   "execution_count": 37,
   "metadata": {},
   "outputs": [],
   "source": [
    "seq_simulation_result = pd.read_csv(\"./results/simulation_time_seq.txt\")\n",
    "par_step_2_simulation_result = pd.read_csv(\"./results/simulation_time_par_step_2.txt\")\n",
    "par_step_3_simulation_result = pd.read_csv(\"./results/simulation_time_par_step_3.txt\")\n",
    "\n",
    "methods = [\"Séquentiel\", \"Parallèle (2 processus)\", \"Parallèle (4 processus)\"]\n",
    "simulation_results = [seq_simulation_result.iloc[0, 0], par_step_2_simulation_result.iloc[0, 0], par_step_3_simulation_result.iloc[0, 0]]"
   ]
  },
  {
   "cell_type": "code",
   "execution_count": 45,
   "metadata": {},
   "outputs": [
    {
     "data": {
      "application/vnd.plotly.v1+json": {
       "config": {
        "plotlyServerURL": "https://plot.ly"
       },
       "data": [
        {
         "marker": {
          "color": [
           "darkblue",
           "darkgreen",
           "darkred"
          ]
         },
         "type": "bar",
         "x": [
          "Séquentiel",
          "Parallèle (2 processus)",
          "Parallèle (4 processus)"
         ],
         "y": [
          558.35,
          640.583,
          345.763
         ]
        }
       ],
       "layout": {
        "template": {
         "data": {
          "bar": [
           {
            "error_x": {
             "color": "#2a3f5f"
            },
            "error_y": {
             "color": "#2a3f5f"
            },
            "marker": {
             "line": {
              "color": "white",
              "width": 0.5
             },
             "pattern": {
              "fillmode": "overlay",
              "size": 10,
              "solidity": 0.2
             }
            },
            "type": "bar"
           }
          ],
          "barpolar": [
           {
            "marker": {
             "line": {
              "color": "white",
              "width": 0.5
             },
             "pattern": {
              "fillmode": "overlay",
              "size": 10,
              "solidity": 0.2
             }
            },
            "type": "barpolar"
           }
          ],
          "carpet": [
           {
            "aaxis": {
             "endlinecolor": "#2a3f5f",
             "gridcolor": "#C8D4E3",
             "linecolor": "#C8D4E3",
             "minorgridcolor": "#C8D4E3",
             "startlinecolor": "#2a3f5f"
            },
            "baxis": {
             "endlinecolor": "#2a3f5f",
             "gridcolor": "#C8D4E3",
             "linecolor": "#C8D4E3",
             "minorgridcolor": "#C8D4E3",
             "startlinecolor": "#2a3f5f"
            },
            "type": "carpet"
           }
          ],
          "choropleth": [
           {
            "colorbar": {
             "outlinewidth": 0,
             "ticks": ""
            },
            "type": "choropleth"
           }
          ],
          "contour": [
           {
            "colorbar": {
             "outlinewidth": 0,
             "ticks": ""
            },
            "colorscale": [
             [
              0,
              "#0d0887"
             ],
             [
              0.1111111111111111,
              "#46039f"
             ],
             [
              0.2222222222222222,
              "#7201a8"
             ],
             [
              0.3333333333333333,
              "#9c179e"
             ],
             [
              0.4444444444444444,
              "#bd3786"
             ],
             [
              0.5555555555555556,
              "#d8576b"
             ],
             [
              0.6666666666666666,
              "#ed7953"
             ],
             [
              0.7777777777777778,
              "#fb9f3a"
             ],
             [
              0.8888888888888888,
              "#fdca26"
             ],
             [
              1,
              "#f0f921"
             ]
            ],
            "type": "contour"
           }
          ],
          "contourcarpet": [
           {
            "colorbar": {
             "outlinewidth": 0,
             "ticks": ""
            },
            "type": "contourcarpet"
           }
          ],
          "heatmap": [
           {
            "colorbar": {
             "outlinewidth": 0,
             "ticks": ""
            },
            "colorscale": [
             [
              0,
              "#0d0887"
             ],
             [
              0.1111111111111111,
              "#46039f"
             ],
             [
              0.2222222222222222,
              "#7201a8"
             ],
             [
              0.3333333333333333,
              "#9c179e"
             ],
             [
              0.4444444444444444,
              "#bd3786"
             ],
             [
              0.5555555555555556,
              "#d8576b"
             ],
             [
              0.6666666666666666,
              "#ed7953"
             ],
             [
              0.7777777777777778,
              "#fb9f3a"
             ],
             [
              0.8888888888888888,
              "#fdca26"
             ],
             [
              1,
              "#f0f921"
             ]
            ],
            "type": "heatmap"
           }
          ],
          "histogram": [
           {
            "marker": {
             "pattern": {
              "fillmode": "overlay",
              "size": 10,
              "solidity": 0.2
             }
            },
            "type": "histogram"
           }
          ],
          "histogram2d": [
           {
            "colorbar": {
             "outlinewidth": 0,
             "ticks": ""
            },
            "colorscale": [
             [
              0,
              "#0d0887"
             ],
             [
              0.1111111111111111,
              "#46039f"
             ],
             [
              0.2222222222222222,
              "#7201a8"
             ],
             [
              0.3333333333333333,
              "#9c179e"
             ],
             [
              0.4444444444444444,
              "#bd3786"
             ],
             [
              0.5555555555555556,
              "#d8576b"
             ],
             [
              0.6666666666666666,
              "#ed7953"
             ],
             [
              0.7777777777777778,
              "#fb9f3a"
             ],
             [
              0.8888888888888888,
              "#fdca26"
             ],
             [
              1,
              "#f0f921"
             ]
            ],
            "type": "histogram2d"
           }
          ],
          "histogram2dcontour": [
           {
            "colorbar": {
             "outlinewidth": 0,
             "ticks": ""
            },
            "colorscale": [
             [
              0,
              "#0d0887"
             ],
             [
              0.1111111111111111,
              "#46039f"
             ],
             [
              0.2222222222222222,
              "#7201a8"
             ],
             [
              0.3333333333333333,
              "#9c179e"
             ],
             [
              0.4444444444444444,
              "#bd3786"
             ],
             [
              0.5555555555555556,
              "#d8576b"
             ],
             [
              0.6666666666666666,
              "#ed7953"
             ],
             [
              0.7777777777777778,
              "#fb9f3a"
             ],
             [
              0.8888888888888888,
              "#fdca26"
             ],
             [
              1,
              "#f0f921"
             ]
            ],
            "type": "histogram2dcontour"
           }
          ],
          "mesh3d": [
           {
            "colorbar": {
             "outlinewidth": 0,
             "ticks": ""
            },
            "type": "mesh3d"
           }
          ],
          "parcoords": [
           {
            "line": {
             "colorbar": {
              "outlinewidth": 0,
              "ticks": ""
             }
            },
            "type": "parcoords"
           }
          ],
          "pie": [
           {
            "automargin": true,
            "type": "pie"
           }
          ],
          "scatter": [
           {
            "fillpattern": {
             "fillmode": "overlay",
             "size": 10,
             "solidity": 0.2
            },
            "type": "scatter"
           }
          ],
          "scatter3d": [
           {
            "line": {
             "colorbar": {
              "outlinewidth": 0,
              "ticks": ""
             }
            },
            "marker": {
             "colorbar": {
              "outlinewidth": 0,
              "ticks": ""
             }
            },
            "type": "scatter3d"
           }
          ],
          "scattercarpet": [
           {
            "marker": {
             "colorbar": {
              "outlinewidth": 0,
              "ticks": ""
             }
            },
            "type": "scattercarpet"
           }
          ],
          "scattergeo": [
           {
            "marker": {
             "colorbar": {
              "outlinewidth": 0,
              "ticks": ""
             }
            },
            "type": "scattergeo"
           }
          ],
          "scattergl": [
           {
            "marker": {
             "colorbar": {
              "outlinewidth": 0,
              "ticks": ""
             }
            },
            "type": "scattergl"
           }
          ],
          "scattermap": [
           {
            "marker": {
             "colorbar": {
              "outlinewidth": 0,
              "ticks": ""
             }
            },
            "type": "scattermap"
           }
          ],
          "scattermapbox": [
           {
            "marker": {
             "colorbar": {
              "outlinewidth": 0,
              "ticks": ""
             }
            },
            "type": "scattermapbox"
           }
          ],
          "scatterpolar": [
           {
            "marker": {
             "colorbar": {
              "outlinewidth": 0,
              "ticks": ""
             }
            },
            "type": "scatterpolar"
           }
          ],
          "scatterpolargl": [
           {
            "marker": {
             "colorbar": {
              "outlinewidth": 0,
              "ticks": ""
             }
            },
            "type": "scatterpolargl"
           }
          ],
          "scatterternary": [
           {
            "marker": {
             "colorbar": {
              "outlinewidth": 0,
              "ticks": ""
             }
            },
            "type": "scatterternary"
           }
          ],
          "surface": [
           {
            "colorbar": {
             "outlinewidth": 0,
             "ticks": ""
            },
            "colorscale": [
             [
              0,
              "#0d0887"
             ],
             [
              0.1111111111111111,
              "#46039f"
             ],
             [
              0.2222222222222222,
              "#7201a8"
             ],
             [
              0.3333333333333333,
              "#9c179e"
             ],
             [
              0.4444444444444444,
              "#bd3786"
             ],
             [
              0.5555555555555556,
              "#d8576b"
             ],
             [
              0.6666666666666666,
              "#ed7953"
             ],
             [
              0.7777777777777778,
              "#fb9f3a"
             ],
             [
              0.8888888888888888,
              "#fdca26"
             ],
             [
              1,
              "#f0f921"
             ]
            ],
            "type": "surface"
           }
          ],
          "table": [
           {
            "cells": {
             "fill": {
              "color": "#EBF0F8"
             },
             "line": {
              "color": "white"
             }
            },
            "header": {
             "fill": {
              "color": "#C8D4E3"
             },
             "line": {
              "color": "white"
             }
            },
            "type": "table"
           }
          ]
         },
         "layout": {
          "annotationdefaults": {
           "arrowcolor": "#2a3f5f",
           "arrowhead": 0,
           "arrowwidth": 1
          },
          "autotypenumbers": "strict",
          "coloraxis": {
           "colorbar": {
            "outlinewidth": 0,
            "ticks": ""
           }
          },
          "colorscale": {
           "diverging": [
            [
             0,
             "#8e0152"
            ],
            [
             0.1,
             "#c51b7d"
            ],
            [
             0.2,
             "#de77ae"
            ],
            [
             0.3,
             "#f1b6da"
            ],
            [
             0.4,
             "#fde0ef"
            ],
            [
             0.5,
             "#f7f7f7"
            ],
            [
             0.6,
             "#e6f5d0"
            ],
            [
             0.7,
             "#b8e186"
            ],
            [
             0.8,
             "#7fbc41"
            ],
            [
             0.9,
             "#4d9221"
            ],
            [
             1,
             "#276419"
            ]
           ],
           "sequential": [
            [
             0,
             "#0d0887"
            ],
            [
             0.1111111111111111,
             "#46039f"
            ],
            [
             0.2222222222222222,
             "#7201a8"
            ],
            [
             0.3333333333333333,
             "#9c179e"
            ],
            [
             0.4444444444444444,
             "#bd3786"
            ],
            [
             0.5555555555555556,
             "#d8576b"
            ],
            [
             0.6666666666666666,
             "#ed7953"
            ],
            [
             0.7777777777777778,
             "#fb9f3a"
            ],
            [
             0.8888888888888888,
             "#fdca26"
            ],
            [
             1,
             "#f0f921"
            ]
           ],
           "sequentialminus": [
            [
             0,
             "#0d0887"
            ],
            [
             0.1111111111111111,
             "#46039f"
            ],
            [
             0.2222222222222222,
             "#7201a8"
            ],
            [
             0.3333333333333333,
             "#9c179e"
            ],
            [
             0.4444444444444444,
             "#bd3786"
            ],
            [
             0.5555555555555556,
             "#d8576b"
            ],
            [
             0.6666666666666666,
             "#ed7953"
            ],
            [
             0.7777777777777778,
             "#fb9f3a"
            ],
            [
             0.8888888888888888,
             "#fdca26"
            ],
            [
             1,
             "#f0f921"
            ]
           ]
          },
          "colorway": [
           "#636efa",
           "#EF553B",
           "#00cc96",
           "#ab63fa",
           "#FFA15A",
           "#19d3f3",
           "#FF6692",
           "#B6E880",
           "#FF97FF",
           "#FECB52"
          ],
          "font": {
           "color": "#2a3f5f"
          },
          "geo": {
           "bgcolor": "white",
           "lakecolor": "white",
           "landcolor": "white",
           "showlakes": true,
           "showland": true,
           "subunitcolor": "#C8D4E3"
          },
          "hoverlabel": {
           "align": "left"
          },
          "hovermode": "closest",
          "mapbox": {
           "style": "light"
          },
          "paper_bgcolor": "white",
          "plot_bgcolor": "white",
          "polar": {
           "angularaxis": {
            "gridcolor": "#EBF0F8",
            "linecolor": "#EBF0F8",
            "ticks": ""
           },
           "bgcolor": "white",
           "radialaxis": {
            "gridcolor": "#EBF0F8",
            "linecolor": "#EBF0F8",
            "ticks": ""
           }
          },
          "scene": {
           "xaxis": {
            "backgroundcolor": "white",
            "gridcolor": "#DFE8F3",
            "gridwidth": 2,
            "linecolor": "#EBF0F8",
            "showbackground": true,
            "ticks": "",
            "zerolinecolor": "#EBF0F8"
           },
           "yaxis": {
            "backgroundcolor": "white",
            "gridcolor": "#DFE8F3",
            "gridwidth": 2,
            "linecolor": "#EBF0F8",
            "showbackground": true,
            "ticks": "",
            "zerolinecolor": "#EBF0F8"
           },
           "zaxis": {
            "backgroundcolor": "white",
            "gridcolor": "#DFE8F3",
            "gridwidth": 2,
            "linecolor": "#EBF0F8",
            "showbackground": true,
            "ticks": "",
            "zerolinecolor": "#EBF0F8"
           }
          },
          "shapedefaults": {
           "line": {
            "color": "#2a3f5f"
           }
          },
          "ternary": {
           "aaxis": {
            "gridcolor": "#DFE8F3",
            "linecolor": "#A2B1C6",
            "ticks": ""
           },
           "baxis": {
            "gridcolor": "#DFE8F3",
            "linecolor": "#A2B1C6",
            "ticks": ""
           },
           "bgcolor": "white",
           "caxis": {
            "gridcolor": "#DFE8F3",
            "linecolor": "#A2B1C6",
            "ticks": ""
           }
          },
          "title": {
           "x": 0.05
          },
          "xaxis": {
           "automargin": true,
           "gridcolor": "#EBF0F8",
           "linecolor": "#EBF0F8",
           "ticks": "",
           "title": {
            "standoff": 15
           },
           "zerolinecolor": "#EBF0F8",
           "zerolinewidth": 2
          },
          "yaxis": {
           "automargin": true,
           "gridcolor": "#EBF0F8",
           "linecolor": "#EBF0F8",
           "ticks": "",
           "title": {
            "standoff": 15
           },
           "zerolinecolor": "#EBF0F8",
           "zerolinewidth": 2
          }
         }
        },
        "title": {
         "text": "Durée de la simulation (400 itérations)"
        },
        "xaxis": {
         "title": {
          "text": "Méthode de calcul"
         }
        },
        "yaxis": {
         "title": {
          "text": "Durée (en s)"
         }
        }
       }
      }
     },
     "metadata": {},
     "output_type": "display_data"
    }
   ],
   "source": [
    "fig = go.Figure()\n",
    "\n",
    "fig.add_trace(go.Bar(\n",
    "    x=methods,\n",
    "    y=simulation_results,\n",
    "    marker_color=[\"darkblue\", \"darkgreen\", \"darkred\"]\n",
    "))\n",
    "\n",
    "fig.update_layout(\n",
    "    title=\"Durée de la simulation (400 itérations)\",\n",
    "    xaxis_title=\"Méthode de calcul\",\n",
    "    yaxis_title=\"Durée (en s)\",\n",
    "    template=\"plotly_white\"\n",
    ")\n",
    "\n",
    "fig.show()"
   ]
  }
 ],
 "metadata": {
  "kernelspec": {
   "display_name": "venv",
   "language": "python",
   "name": "python3"
  },
  "language_info": {
   "codemirror_mode": {
    "name": "ipython",
    "version": 3
   },
   "file_extension": ".py",
   "mimetype": "text/x-python",
   "name": "python",
   "nbconvert_exporter": "python",
   "pygments_lexer": "ipython3",
   "version": "3.9.6"
  }
 },
 "nbformat": 4,
 "nbformat_minor": 2
}
