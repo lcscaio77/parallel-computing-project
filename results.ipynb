{
 "cells": [
  {
   "cell_type": "code",
   "execution_count": 9,
   "metadata": {},
   "outputs": [],
   "source": [
    "import pandas as pd\n",
    "import plotly.graph_objects as go"
   ]
  },
  {
   "cell_type": "code",
   "execution_count": 10,
   "metadata": {},
   "outputs": [],
   "source": [
    "seq_computing_results = pd.read_csv(\"./results/computing_times_seq.txt\")\n",
    "par_step_2_computing_results = pd.read_csv(\"./results/computing_times_par_step_2.txt\")\n",
    "par_step_3_computing_results = pd.read_csv(\"./results/computing_times_par_step_3.txt\")\n",
    "\n",
    "seq_rendering_results = pd.read_csv(\"./results/rendering_times_seq.txt\")\n",
    "par_step_2_rendering_results = pd.read_csv(\"./results/rendering_times_par_step_2.txt\")\n",
    "par_step_3_rendering_results = pd.read_csv(\"./results/rendering_times_par_step_3.txt\")"
   ]
  },
  {
   "cell_type": "code",
   "execution_count": 11,
   "metadata": {},
   "outputs": [
    {
     "data": {
      "application/vnd.plotly.v1+json": {
       "config": {
        "plotlyServerURL": "https://plot.ly"
       },
       "data": [
        {
         "line": {
          "color": "darkblue"
         },
         "name": "Calcul séquentiel",
         "type": "scatter",
         "x": {
          "bdata": "AAABAAIAAwAEAAUABgAHAAgACQAKAAsADAANAA4ADwAQABEAEgATABQAFQAWABcAGAAZABoAGwAcAB0AHgAfACAAIQAiACMAJAAlACYAJwAoACkAKgArACwALQAuAC8AMAAxADIAMwA0ADUANgA3ADgAOQA6ADsAPAA9AD4APwBAAEEAQgBDAEQARQBGAEcASABJAEoASwBMAE0ATgBPAFAAUQBSAFMAVABVAFYAVwBYAFkAWgBbAFwAXQBeAF8AYABhAGIAYwBkAGUAZgBnAGgAaQBqAGsAbABtAG4AbwBwAHEAcgBzAHQAdQB2AHcAeAB5AHoAewB8AH0AfgB/AIAAgQCCAIMAhACFAIYAhwCIAIkAigCLAIwAjQCOAI8AkACRAJIAkwCUAJUAlgCXAJgAmQCaAJsAnACdAJ4AnwCgAKEAogCjAKQApQCmAKcAqACpAKoAqwCsAK0ArgCvALAAsQCyALMAtAC1ALYAtwC4ALkAugC7ALwAvQC+AL8AwADBAMIAwwDEAMUAxgDHAMgAyQDKAMsAzADNAM4AzwDQANEA0gDTANQA1QDWANcA2ADZANoA2wDcAN0A3gDfAOAA4QDiAOMA5ADlAOYA5wDoAOkA6gDrAOwA7QDuAO8A8ADxAPIA8wD0APUA9gD3APgA+QA=",
          "dtype": "i2"
         },
         "y": {
          "bdata": "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",
          "dtype": "f8"
         }
        },
        {
         "line": {
          "color": "darkgreen"
         },
         "name": "Calcul parallèle (Étape 2)",
         "type": "scatter",
         "x": {
          "bdata": "AAABAAIAAwAEAAUABgAHAAgACQAKAAsADAANAA4ADwAQABEAEgATABQAFQAWABcAGAAZABoAGwAcAB0AHgAfACAAIQAiACMAJAAlACYAJwAoACkAKgArACwALQAuAC8AMAAxADIAMwA0ADUANgA3ADgAOQA6ADsAPAA9AD4APwBAAEEAQgBDAEQARQBGAEcASABJAEoASwBMAE0ATgBPAFAAUQBSAFMAVABVAFYAVwBYAFkAWgBbAFwAXQBeAF8AYABhAGIAYwBkAGUAZgBnAGgAaQBqAGsAbABtAG4AbwBwAHEAcgBzAHQAdQB2AHcAeAB5AHoAewB8AH0AfgB/AIAAgQCCAIMAhACFAIYAhwCIAIkAigCLAIwAjQCOAI8AkACRAJIAkwCUAJUAlgCXAJgAmQCaAJsAnACdAJ4AnwCgAKEAogCjAKQApQCmAKcAqACpAKoAqwCsAK0ArgCvALAAsQCyALMAtAC1ALYAtwC4ALkAugC7ALwAvQC+AL8AwADBAMIAwwDEAMUAxgDHAMgAyQDKAMsAzADNAM4AzwDQANEA0gDTANQA1QDWANcA2ADZANoA2wDcAN0A3gDfAOAA4QDiAOMA5ADlAOYA5wDoAOkA6gDrAOwA7QDuAO8A8ADxAPIA8wD0APUA9gD3APgA+QA=",
          "dtype": "i2"
         },
         "y": {
          "bdata": "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",
          "dtype": "f8"
         }
        },
        {
         "line": {
          "color": "darkred"
         },
         "name": "Calcul parallèle (Étape 3)",
         "type": "scatter",
         "x": {
          "bdata": "AAABAAIAAwAEAAUABgAHAAgACQAKAAsADAANAA4ADwAQABEAEgATABQAFQAWABcAGAAZABoAGwAcAB0AHgAfACAAIQAiACMAJAAlACYAJwAoACkAKgArACwALQAuAC8AMAAxADIAMwA0ADUANgA3ADgAOQA6ADsAPAA9AD4APwBAAEEAQgBDAEQARQBGAEcASABJAEoASwBMAE0ATgBPAFAAUQBSAFMAVABVAFYAVwBYAFkAWgBbAFwAXQBeAF8AYABhAGIAYwBkAGUAZgBnAGgAaQBqAGsAbABtAG4AbwBwAHEAcgBzAHQAdQB2AHcAeAB5AHoAewB8AH0AfgB/AIAAgQCCAIMAhACFAIYAhwCIAIkAigCLAIwAjQCOAI8AkACRAJIAkwCUAJUAlgCXAJgAmQCaAJsAnACdAJ4AnwCgAKEAogCjAKQApQCmAKcAqACpAKoAqwCsAK0ArgCvALAAsQCyALMAtAC1ALYAtwC4ALkAugC7ALwAvQC+AL8AwADBAMIAwwDEAMUAxgDHAMgAyQDKAMsAzADNAM4AzwDQANEA0gDTANQA1QDWANcA2ADZANoA2wDcAN0A3gDfAOAA4QDiAOMA5ADlAOYA5wDoAOkA6gDrAOwA7QDuAO8A8ADxAPIA8wD0APUA9gD3APgA+QA=",
          "dtype": "i2"
         },
         "y": {
          "bdata": "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",
          "dtype": "f8"
         }
        }
       ],
       "layout": {
        "template": {
         "data": {
          "bar": [
           {
            "error_x": {
             "color": "#2a3f5f"
            },
            "error_y": {
             "color": "#2a3f5f"
            },
            "marker": {
             "line": {
              "color": "white",
              "width": 0.5
             },
             "pattern": {
              "fillmode": "overlay",
              "size": 10,
              "solidity": 0.2
             }
            },
            "type": "bar"
           }
          ],
          "barpolar": [
           {
            "marker": {
             "line": {
              "color": "white",
              "width": 0.5
             },
             "pattern": {
              "fillmode": "overlay",
              "size": 10,
              "solidity": 0.2
             }
            },
            "type": "barpolar"
           }
          ],
          "carpet": [
           {
            "aaxis": {
             "endlinecolor": "#2a3f5f",
             "gridcolor": "#C8D4E3",
             "linecolor": "#C8D4E3",
             "minorgridcolor": "#C8D4E3",
             "startlinecolor": "#2a3f5f"
            },
            "baxis": {
             "endlinecolor": "#2a3f5f",
             "gridcolor": "#C8D4E3",
             "linecolor": "#C8D4E3",
             "minorgridcolor": "#C8D4E3",
             "startlinecolor": "#2a3f5f"
            },
            "type": "carpet"
           }
          ],
          "choropleth": [
           {
            "colorbar": {
             "outlinewidth": 0,
             "ticks": ""
            },
            "type": "choropleth"
           }
          ],
          "contour": [
           {
            "colorbar": {
             "outlinewidth": 0,
             "ticks": ""
            },
            "colorscale": [
             [
              0,
              "#0d0887"
             ],
             [
              0.1111111111111111,
              "#46039f"
             ],
             [
              0.2222222222222222,
              "#7201a8"
             ],
             [
              0.3333333333333333,
              "#9c179e"
             ],
             [
              0.4444444444444444,
              "#bd3786"
             ],
             [
              0.5555555555555556,
              "#d8576b"
             ],
             [
              0.6666666666666666,
              "#ed7953"
             ],
             [
              0.7777777777777778,
              "#fb9f3a"
             ],
             [
              0.8888888888888888,
              "#fdca26"
             ],
             [
              1,
              "#f0f921"
             ]
            ],
            "type": "contour"
           }
          ],
          "contourcarpet": [
           {
            "colorbar": {
             "outlinewidth": 0,
             "ticks": ""
            },
            "type": "contourcarpet"
           }
          ],
          "heatmap": [
           {
            "colorbar": {
             "outlinewidth": 0,
             "ticks": ""
            },
            "colorscale": [
             [
              0,
              "#0d0887"
             ],
             [
              0.1111111111111111,
              "#46039f"
             ],
             [
              0.2222222222222222,
              "#7201a8"
             ],
             [
              0.3333333333333333,
              "#9c179e"
             ],
             [
              0.4444444444444444,
              "#bd3786"
             ],
             [
              0.5555555555555556,
              "#d8576b"
             ],
             [
              0.6666666666666666,
              "#ed7953"
             ],
             [
              0.7777777777777778,
              "#fb9f3a"
             ],
             [
              0.8888888888888888,
              "#fdca26"
             ],
             [
              1,
              "#f0f921"
             ]
            ],
            "type": "heatmap"
           }
          ],
          "histogram": [
           {
            "marker": {
             "pattern": {
              "fillmode": "overlay",
              "size": 10,
              "solidity": 0.2
             }
            },
            "type": "histogram"
           }
          ],
          "histogram2d": [
           {
            "colorbar": {
             "outlinewidth": 0,
             "ticks": ""
            },
            "colorscale": [
             [
              0,
              "#0d0887"
             ],
             [
              0.1111111111111111,
              "#46039f"
             ],
             [
              0.2222222222222222,
              "#7201a8"
             ],
             [
              0.3333333333333333,
              "#9c179e"
             ],
             [
              0.4444444444444444,
              "#bd3786"
             ],
             [
              0.5555555555555556,
              "#d8576b"
             ],
             [
              0.6666666666666666,
              "#ed7953"
             ],
             [
              0.7777777777777778,
              "#fb9f3a"
             ],
             [
              0.8888888888888888,
              "#fdca26"
             ],
             [
              1,
              "#f0f921"
             ]
            ],
            "type": "histogram2d"
           }
          ],
          "histogram2dcontour": [
           {
            "colorbar": {
             "outlinewidth": 0,
             "ticks": ""
            },
            "colorscale": [
             [
              0,
              "#0d0887"
             ],
             [
              0.1111111111111111,
              "#46039f"
             ],
             [
              0.2222222222222222,
              "#7201a8"
             ],
             [
              0.3333333333333333,
              "#9c179e"
             ],
             [
              0.4444444444444444,
              "#bd3786"
             ],
             [
              0.5555555555555556,
              "#d8576b"
             ],
             [
              0.6666666666666666,
              "#ed7953"
             ],
             [
              0.7777777777777778,
              "#fb9f3a"
             ],
             [
              0.8888888888888888,
              "#fdca26"
             ],
             [
              1,
              "#f0f921"
             ]
            ],
            "type": "histogram2dcontour"
           }
          ],
          "mesh3d": [
           {
            "colorbar": {
             "outlinewidth": 0,
             "ticks": ""
            },
            "type": "mesh3d"
           }
          ],
          "parcoords": [
           {
            "line": {
             "colorbar": {
              "outlinewidth": 0,
              "ticks": ""
             }
            },
            "type": "parcoords"
           }
          ],
          "pie": [
           {
            "automargin": true,
            "type": "pie"
           }
          ],
          "scatter": [
           {
            "fillpattern": {
             "fillmode": "overlay",
             "size": 10,
             "solidity": 0.2
            },
            "type": "scatter"
           }
          ],
          "scatter3d": [
           {
            "line": {
             "colorbar": {
              "outlinewidth": 0,
              "ticks": ""
             }
            },
            "marker": {
             "colorbar": {
              "outlinewidth": 0,
              "ticks": ""
             }
            },
            "type": "scatter3d"
           }
          ],
          "scattercarpet": [
           {
            "marker": {
             "colorbar": {
              "outlinewidth": 0,
              "ticks": ""
             }
            },
            "type": "scattercarpet"
           }
          ],
          "scattergeo": [
           {
            "marker": {
             "colorbar": {
              "outlinewidth": 0,
              "ticks": ""
             }
            },
            "type": "scattergeo"
           }
          ],
          "scattergl": [
           {
            "marker": {
             "colorbar": {
              "outlinewidth": 0,
              "ticks": ""
             }
            },
            "type": "scattergl"
           }
          ],
          "scattermap": [
           {
            "marker": {
             "colorbar": {
              "outlinewidth": 0,
              "ticks": ""
             }
            },
            "type": "scattermap"
           }
          ],
          "scattermapbox": [
           {
            "marker": {
             "colorbar": {
              "outlinewidth": 0,
              "ticks": ""
             }
            },
            "type": "scattermapbox"
           }
          ],
          "scatterpolar": [
           {
            "marker": {
             "colorbar": {
              "outlinewidth": 0,
              "ticks": ""
             }
            },
            "type": "scatterpolar"
           }
          ],
          "scatterpolargl": [
           {
            "marker": {
             "colorbar": {
              "outlinewidth": 0,
              "ticks": ""
             }
            },
            "type": "scatterpolargl"
           }
          ],
          "scatterternary": [
           {
            "marker": {
             "colorbar": {
              "outlinewidth": 0,
              "ticks": ""
             }
            },
            "type": "scatterternary"
           }
          ],
          "surface": [
           {
            "colorbar": {
             "outlinewidth": 0,
             "ticks": ""
            },
            "colorscale": [
             [
              0,
              "#0d0887"
             ],
             [
              0.1111111111111111,
              "#46039f"
             ],
             [
              0.2222222222222222,
              "#7201a8"
             ],
             [
              0.3333333333333333,
              "#9c179e"
             ],
             [
              0.4444444444444444,
              "#bd3786"
             ],
             [
              0.5555555555555556,
              "#d8576b"
             ],
             [
              0.6666666666666666,
              "#ed7953"
             ],
             [
              0.7777777777777778,
              "#fb9f3a"
             ],
             [
              0.8888888888888888,
              "#fdca26"
             ],
             [
              1,
              "#f0f921"
             ]
            ],
            "type": "surface"
           }
          ],
          "table": [
           {
            "cells": {
             "fill": {
              "color": "#EBF0F8"
             },
             "line": {
              "color": "white"
             }
            },
            "header": {
             "fill": {
              "color": "#C8D4E3"
             },
             "line": {
              "color": "white"
             }
            },
            "type": "table"
           }
          ]
         },
         "layout": {
          "annotationdefaults": {
           "arrowcolor": "#2a3f5f",
           "arrowhead": 0,
           "arrowwidth": 1
          },
          "autotypenumbers": "strict",
          "coloraxis": {
           "colorbar": {
            "outlinewidth": 0,
            "ticks": ""
           }
          },
          "colorscale": {
           "diverging": [
            [
             0,
             "#8e0152"
            ],
            [
             0.1,
             "#c51b7d"
            ],
            [
             0.2,
             "#de77ae"
            ],
            [
             0.3,
             "#f1b6da"
            ],
            [
             0.4,
             "#fde0ef"
            ],
            [
             0.5,
             "#f7f7f7"
            ],
            [
             0.6,
             "#e6f5d0"
            ],
            [
             0.7,
             "#b8e186"
            ],
            [
             0.8,
             "#7fbc41"
            ],
            [
             0.9,
             "#4d9221"
            ],
            [
             1,
             "#276419"
            ]
           ],
           "sequential": [
            [
             0,
             "#0d0887"
            ],
            [
             0.1111111111111111,
             "#46039f"
            ],
            [
             0.2222222222222222,
             "#7201a8"
            ],
            [
             0.3333333333333333,
             "#9c179e"
            ],
            [
             0.4444444444444444,
             "#bd3786"
            ],
            [
             0.5555555555555556,
             "#d8576b"
            ],
            [
             0.6666666666666666,
             "#ed7953"
            ],
            [
             0.7777777777777778,
             "#fb9f3a"
            ],
            [
             0.8888888888888888,
             "#fdca26"
            ],
            [
             1,
             "#f0f921"
            ]
           ],
           "sequentialminus": [
            [
             0,
             "#0d0887"
            ],
            [
             0.1111111111111111,
             "#46039f"
            ],
            [
             0.2222222222222222,
             "#7201a8"
            ],
            [
             0.3333333333333333,
             "#9c179e"
            ],
            [
             0.4444444444444444,
             "#bd3786"
            ],
            [
             0.5555555555555556,
             "#d8576b"
            ],
            [
             0.6666666666666666,
             "#ed7953"
            ],
            [
             0.7777777777777778,
             "#fb9f3a"
            ],
            [
             0.8888888888888888,
             "#fdca26"
            ],
            [
             1,
             "#f0f921"
            ]
           ]
          },
          "colorway": [
           "#636efa",
           "#EF553B",
           "#00cc96",
           "#ab63fa",
           "#FFA15A",
           "#19d3f3",
           "#FF6692",
           "#B6E880",
           "#FF97FF",
           "#FECB52"
          ],
          "font": {
           "color": "#2a3f5f"
          },
          "geo": {
           "bgcolor": "white",
           "lakecolor": "white",
           "landcolor": "white",
           "showlakes": true,
           "showland": true,
           "subunitcolor": "#C8D4E3"
          },
          "hoverlabel": {
           "align": "left"
          },
          "hovermode": "closest",
          "mapbox": {
           "style": "light"
          },
          "paper_bgcolor": "white",
          "plot_bgcolor": "white",
          "polar": {
           "angularaxis": {
            "gridcolor": "#EBF0F8",
            "linecolor": "#EBF0F8",
            "ticks": ""
           },
           "bgcolor": "white",
           "radialaxis": {
            "gridcolor": "#EBF0F8",
            "linecolor": "#EBF0F8",
            "ticks": ""
           }
          },
          "scene": {
           "xaxis": {
            "backgroundcolor": "white",
            "gridcolor": "#DFE8F3",
            "gridwidth": 2,
            "linecolor": "#EBF0F8",
            "showbackground": true,
            "ticks": "",
            "zerolinecolor": "#EBF0F8"
           },
           "yaxis": {
            "backgroundcolor": "white",
            "gridcolor": "#DFE8F3",
            "gridwidth": 2,
            "linecolor": "#EBF0F8",
            "showbackground": true,
            "ticks": "",
            "zerolinecolor": "#EBF0F8"
           },
           "zaxis": {
            "backgroundcolor": "white",
            "gridcolor": "#DFE8F3",
            "gridwidth": 2,
            "linecolor": "#EBF0F8",
            "showbackground": true,
            "ticks": "",
            "zerolinecolor": "#EBF0F8"
           }
          },
          "shapedefaults": {
           "line": {
            "color": "#2a3f5f"
           }
          },
          "ternary": {
           "aaxis": {
            "gridcolor": "#DFE8F3",
            "linecolor": "#A2B1C6",
            "ticks": ""
           },
           "baxis": {
            "gridcolor": "#DFE8F3",
            "linecolor": "#A2B1C6",
            "ticks": ""
           },
           "bgcolor": "white",
           "caxis": {
            "gridcolor": "#DFE8F3",
            "linecolor": "#A2B1C6",
            "ticks": ""
           }
          },
          "title": {
           "x": 0.05
          },
          "xaxis": {
           "automargin": true,
           "gridcolor": "#EBF0F8",
           "linecolor": "#EBF0F8",
           "ticks": "",
           "title": {
            "standoff": 15
           },
           "zerolinecolor": "#EBF0F8",
           "zerolinewidth": 2
          },
          "yaxis": {
           "automargin": true,
           "gridcolor": "#EBF0F8",
           "linecolor": "#EBF0F8",
           "ticks": "",
           "title": {
            "standoff": 15
           },
           "zerolinecolor": "#EBF0F8",
           "zerolinewidth": 2
          }
         }
        },
        "title": {
         "text": "Évolution du temps de calcul au fil des itérations"
        },
        "xaxis": {
         "title": {
          "text": "Itération"
         }
        },
        "yaxis": {
         "title": {
          "text": "Temps de calcul (en ms)"
         }
        }
       }
      }
     },
     "metadata": {},
     "output_type": "display_data"
    }
   ],
   "source": [
    "fig = go.Figure()\n",
    "\n",
    "fig.add_trace(go.Scatter(\n",
    "    x=seq_computing_results.index,\n",
    "    y=seq_computing_results[\"Computing time\"],\n",
    "    name=\"Calcul séquentiel\",\n",
    "    line=dict(color=\"darkblue\")\n",
    "))\n",
    "\n",
    "fig.add_trace(go.Scatter(\n",
    "    x=par_step_2_computing_results.index,\n",
    "    y=par_step_2_computing_results[\"Computing time\"],\n",
    "    name=\"Calcul parallèle (Étape 2)\",\n",
    "    line=dict(color=\"darkgreen\")\n",
    "))\n",
    "\n",
    "fig.add_trace(go.Scatter(\n",
    "    x=par_step_3_computing_results.index,\n",
    "    y=par_step_3_computing_results[\"Computing time\"],\n",
    "    name=\"Calcul parallèle (Étape 3)\",\n",
    "    line=dict(color=\"darkred\")\n",
    "))\n",
    "\n",
    "fig.update_layout(\n",
    "    title=\"Évolution du temps de calcul au fil des itérations\",\n",
    "    xaxis_title=\"Itération\",\n",
    "    yaxis_title=\"Temps de calcul (en ms)\",\n",
    "    template=\"plotly_white\"\n",
    ")\n",
    "\n",
    "fig.show()"
   ]
  },
  {
   "cell_type": "code",
   "execution_count": 13,
   "metadata": {},
   "outputs": [
    {
     "data": {
      "application/vnd.plotly.v1+json": {
       "config": {
        "plotlyServerURL": "https://plot.ly"
       },
       "data": [
        {
         "line": {
          "color": "darkblue"
         },
         "name": "Calcul séquentiel",
         "type": "scatter",
         "x": {
          "bdata": "AAABAAIAAwAEAAUABgAHAAgACQAKAAsADAANAA4ADwAQABEAEgATABQAFQAWABcAGAAZABoAGwAcAB0AHgAfACAAIQAiACMAJAAlACYAJwAoACkAKgArACwALQAuAC8AMAAxADIAMwA0ADUANgA3ADgAOQA6ADsAPAA9AD4APwBAAEEAQgBDAEQARQBGAEcASABJAEoASwBMAE0ATgBPAFAAUQBSAFMAVABVAFYAVwBYAFkAWgBbAFwAXQBeAF8AYABhAGIAYwBkAGUAZgBnAGgAaQBqAGsAbABtAG4AbwBwAHEAcgBzAHQAdQB2AHcAeAB5AHoAewB8AH0AfgB/AIAAgQCCAIMAhACFAIYAhwCIAIkAigCLAIwAjQCOAI8AkACRAJIAkwCUAJUAlgCXAJgAmQCaAJsAnACdAJ4AnwCgAKEAogCjAKQApQCmAKcAqACpAKoAqwCsAK0ArgCvALAAsQCyALMAtAC1ALYAtwC4ALkAugC7ALwAvQC+AL8AwADBAMIAwwDEAMUAxgDHAMgAyQDKAMsAzADNAM4AzwDQANEA0gDTANQA1QDWANcA2ADZANoA2wDcAN0A3gDfAOAA4QDiAOMA5ADlAOYA5wDoAOkA6gDrAOwA7QDuAO8A8ADxAPIA8wD0APUA9gD3APgA+QA=",
          "dtype": "i2"
         },
         "y": {
          "bdata": "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",
          "dtype": "f8"
         }
        },
        {
         "line": {
          "color": "darkgreen"
         },
         "name": "Calcul parallèle (Étape 2)",
         "type": "scatter",
         "x": {
          "bdata": "AAABAAIAAwAEAAUABgAHAAgACQAKAAsADAANAA4ADwAQABEAEgATABQAFQAWABcAGAAZABoAGwAcAB0AHgAfACAAIQAiACMAJAAlACYAJwAoACkAKgArACwALQAuAC8AMAAxADIAMwA0ADUANgA3ADgAOQA6ADsAPAA9AD4APwBAAEEAQgBDAEQARQBGAEcASABJAEoASwBMAE0ATgBPAFAAUQBSAFMAVABVAFYAVwBYAFkAWgBbAFwAXQBeAF8AYABhAGIAYwBkAGUAZgBnAGgAaQBqAGsAbABtAG4AbwBwAHEAcgBzAHQAdQB2AHcAeAB5AHoAewB8AH0AfgB/AIAAgQCCAIMAhACFAIYAhwCIAIkAigCLAIwAjQCOAI8AkACRAJIAkwCUAJUAlgCXAJgAmQCaAJsAnACdAJ4AnwCgAKEAogCjAKQApQCmAKcAqACpAKoAqwCsAK0ArgCvALAAsQCyALMAtAC1ALYAtwC4ALkAugC7ALwAvQC+AL8AwADBAMIAwwDEAMUAxgDHAMgAyQDKAMsAzADNAM4AzwDQANEA0gDTANQA1QDWANcA2ADZANoA2wDcAN0A3gDfAOAA4QDiAOMA5ADlAOYA5wDoAOkA6gDrAOwA7QDuAO8A8ADxAPIA8wD0APUA9gD3APgA+QA=",
          "dtype": "i2"
         },
         "y": {
          "bdata": "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",
          "dtype": "f8"
         }
        },
        {
         "line": {
          "color": "darkred"
         },
         "name": "Calcul parallèle (Étape 3)",
         "type": "scatter",
         "x": {
          "bdata": "AAABAAIAAwAEAAUABgAHAAgACQAKAAsADAANAA4ADwAQABEAEgATABQAFQAWABcAGAAZABoAGwAcAB0AHgAfACAAIQAiACMAJAAlACYAJwAoACkAKgArACwALQAuAC8AMAAxADIAMwA0ADUANgA3ADgAOQA6ADsAPAA9AD4APwBAAEEAQgBDAEQARQBGAEcASABJAEoASwBMAE0ATgBPAFAAUQBSAFMAVABVAFYAVwBYAFkAWgBbAFwAXQBeAF8AYABhAGIAYwBkAGUAZgBnAGgAaQBqAGsAbABtAG4AbwBwAHEAcgBzAHQAdQB2AHcAeAB5AHoAewB8AH0AfgB/AIAAgQCCAIMAhACFAIYAhwCIAIkAigCLAIwAjQCOAI8AkACRAJIAkwCUAJUAlgCXAJgAmQCaAJsAnACdAJ4AnwCgAKEAogCjAKQApQCmAKcAqACpAKoAqwCsAK0ArgCvALAAsQCyALMAtAC1ALYAtwC4ALkAugC7ALwAvQC+AL8AwADBAMIAwwDEAMUAxgDHAMgAyQDKAMsAzADNAM4AzwDQANEA0gDTANQA1QDWANcA2ADZANoA2wDcAN0A3gDfAOAA4QDiAOMA5ADlAOYA5wDoAOkA6gDrAOwA7QDuAO8A8ADxAPIA8wD0APUA9gD3APgA+QA=",
          "dtype": "i2"
         },
         "y": {
          "bdata": "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",
          "dtype": "f8"
         }
        }
       ],
       "layout": {
        "template": {
         "data": {
          "bar": [
           {
            "error_x": {
             "color": "#2a3f5f"
            },
            "error_y": {
             "color": "#2a3f5f"
            },
            "marker": {
             "line": {
              "color": "white",
              "width": 0.5
             },
             "pattern": {
              "fillmode": "overlay",
              "size": 10,
              "solidity": 0.2
             }
            },
            "type": "bar"
           }
          ],
          "barpolar": [
           {
            "marker": {
             "line": {
              "color": "white",
              "width": 0.5
             },
             "pattern": {
              "fillmode": "overlay",
              "size": 10,
              "solidity": 0.2
             }
            },
            "type": "barpolar"
           }
          ],
          "carpet": [
           {
            "aaxis": {
             "endlinecolor": "#2a3f5f",
             "gridcolor": "#C8D4E3",
             "linecolor": "#C8D4E3",
             "minorgridcolor": "#C8D4E3",
             "startlinecolor": "#2a3f5f"
            },
            "baxis": {
             "endlinecolor": "#2a3f5f",
             "gridcolor": "#C8D4E3",
             "linecolor": "#C8D4E3",
             "minorgridcolor": "#C8D4E3",
             "startlinecolor": "#2a3f5f"
            },
            "type": "carpet"
           }
          ],
          "choropleth": [
           {
            "colorbar": {
             "outlinewidth": 0,
             "ticks": ""
            },
            "type": "choropleth"
           }
          ],
          "contour": [
           {
            "colorbar": {
             "outlinewidth": 0,
             "ticks": ""
            },
            "colorscale": [
             [
              0,
              "#0d0887"
             ],
             [
              0.1111111111111111,
              "#46039f"
             ],
             [
              0.2222222222222222,
              "#7201a8"
             ],
             [
              0.3333333333333333,
              "#9c179e"
             ],
             [
              0.4444444444444444,
              "#bd3786"
             ],
             [
              0.5555555555555556,
              "#d8576b"
             ],
             [
              0.6666666666666666,
              "#ed7953"
             ],
             [
              0.7777777777777778,
              "#fb9f3a"
             ],
             [
              0.8888888888888888,
              "#fdca26"
             ],
             [
              1,
              "#f0f921"
             ]
            ],
            "type": "contour"
           }
          ],
          "contourcarpet": [
           {
            "colorbar": {
             "outlinewidth": 0,
             "ticks": ""
            },
            "type": "contourcarpet"
           }
          ],
          "heatmap": [
           {
            "colorbar": {
             "outlinewidth": 0,
             "ticks": ""
            },
            "colorscale": [
             [
              0,
              "#0d0887"
             ],
             [
              0.1111111111111111,
              "#46039f"
             ],
             [
              0.2222222222222222,
              "#7201a8"
             ],
             [
              0.3333333333333333,
              "#9c179e"
             ],
             [
              0.4444444444444444,
              "#bd3786"
             ],
             [
              0.5555555555555556,
              "#d8576b"
             ],
             [
              0.6666666666666666,
              "#ed7953"
             ],
             [
              0.7777777777777778,
              "#fb9f3a"
             ],
             [
              0.8888888888888888,
              "#fdca26"
             ],
             [
              1,
              "#f0f921"
             ]
            ],
            "type": "heatmap"
           }
          ],
          "histogram": [
           {
            "marker": {
             "pattern": {
              "fillmode": "overlay",
              "size": 10,
              "solidity": 0.2
             }
            },
            "type": "histogram"
           }
          ],
          "histogram2d": [
           {
            "colorbar": {
             "outlinewidth": 0,
             "ticks": ""
            },
            "colorscale": [
             [
              0,
              "#0d0887"
             ],
             [
              0.1111111111111111,
              "#46039f"
             ],
             [
              0.2222222222222222,
              "#7201a8"
             ],
             [
              0.3333333333333333,
              "#9c179e"
             ],
             [
              0.4444444444444444,
              "#bd3786"
             ],
             [
              0.5555555555555556,
              "#d8576b"
             ],
             [
              0.6666666666666666,
              "#ed7953"
             ],
             [
              0.7777777777777778,
              "#fb9f3a"
             ],
             [
              0.8888888888888888,
              "#fdca26"
             ],
             [
              1,
              "#f0f921"
             ]
            ],
            "type": "histogram2d"
           }
          ],
          "histogram2dcontour": [
           {
            "colorbar": {
             "outlinewidth": 0,
             "ticks": ""
            },
            "colorscale": [
             [
              0,
              "#0d0887"
             ],
             [
              0.1111111111111111,
              "#46039f"
             ],
             [
              0.2222222222222222,
              "#7201a8"
             ],
             [
              0.3333333333333333,
              "#9c179e"
             ],
             [
              0.4444444444444444,
              "#bd3786"
             ],
             [
              0.5555555555555556,
              "#d8576b"
             ],
             [
              0.6666666666666666,
              "#ed7953"
             ],
             [
              0.7777777777777778,
              "#fb9f3a"
             ],
             [
              0.8888888888888888,
              "#fdca26"
             ],
             [
              1,
              "#f0f921"
             ]
            ],
            "type": "histogram2dcontour"
           }
          ],
          "mesh3d": [
           {
            "colorbar": {
             "outlinewidth": 0,
             "ticks": ""
            },
            "type": "mesh3d"
           }
          ],
          "parcoords": [
           {
            "line": {
             "colorbar": {
              "outlinewidth": 0,
              "ticks": ""
             }
            },
            "type": "parcoords"
           }
          ],
          "pie": [
           {
            "automargin": true,
            "type": "pie"
           }
          ],
          "scatter": [
           {
            "fillpattern": {
             "fillmode": "overlay",
             "size": 10,
             "solidity": 0.2
            },
            "type": "scatter"
           }
          ],
          "scatter3d": [
           {
            "line": {
             "colorbar": {
              "outlinewidth": 0,
              "ticks": ""
             }
            },
            "marker": {
             "colorbar": {
              "outlinewidth": 0,
              "ticks": ""
             }
            },
            "type": "scatter3d"
           }
          ],
          "scattercarpet": [
           {
            "marker": {
             "colorbar": {
              "outlinewidth": 0,
              "ticks": ""
             }
            },
            "type": "scattercarpet"
           }
          ],
          "scattergeo": [
           {
            "marker": {
             "colorbar": {
              "outlinewidth": 0,
              "ticks": ""
             }
            },
            "type": "scattergeo"
           }
          ],
          "scattergl": [
           {
            "marker": {
             "colorbar": {
              "outlinewidth": 0,
              "ticks": ""
             }
            },
            "type": "scattergl"
           }
          ],
          "scattermap": [
           {
            "marker": {
             "colorbar": {
              "outlinewidth": 0,
              "ticks": ""
             }
            },
            "type": "scattermap"
           }
          ],
          "scattermapbox": [
           {
            "marker": {
             "colorbar": {
              "outlinewidth": 0,
              "ticks": ""
             }
            },
            "type": "scattermapbox"
           }
          ],
          "scatterpolar": [
           {
            "marker": {
             "colorbar": {
              "outlinewidth": 0,
              "ticks": ""
             }
            },
            "type": "scatterpolar"
           }
          ],
          "scatterpolargl": [
           {
            "marker": {
             "colorbar": {
              "outlinewidth": 0,
              "ticks": ""
             }
            },
            "type": "scatterpolargl"
           }
          ],
          "scatterternary": [
           {
            "marker": {
             "colorbar": {
              "outlinewidth": 0,
              "ticks": ""
             }
            },
            "type": "scatterternary"
           }
          ],
          "surface": [
           {
            "colorbar": {
             "outlinewidth": 0,
             "ticks": ""
            },
            "colorscale": [
             [
              0,
              "#0d0887"
             ],
             [
              0.1111111111111111,
              "#46039f"
             ],
             [
              0.2222222222222222,
              "#7201a8"
             ],
             [
              0.3333333333333333,
              "#9c179e"
             ],
             [
              0.4444444444444444,
              "#bd3786"
             ],
             [
              0.5555555555555556,
              "#d8576b"
             ],
             [
              0.6666666666666666,
              "#ed7953"
             ],
             [
              0.7777777777777778,
              "#fb9f3a"
             ],
             [
              0.8888888888888888,
              "#fdca26"
             ],
             [
              1,
              "#f0f921"
             ]
            ],
            "type": "surface"
           }
          ],
          "table": [
           {
            "cells": {
             "fill": {
              "color": "#EBF0F8"
             },
             "line": {
              "color": "white"
             }
            },
            "header": {
             "fill": {
              "color": "#C8D4E3"
             },
             "line": {
              "color": "white"
             }
            },
            "type": "table"
           }
          ]
         },
         "layout": {
          "annotationdefaults": {
           "arrowcolor": "#2a3f5f",
           "arrowhead": 0,
           "arrowwidth": 1
          },
          "autotypenumbers": "strict",
          "coloraxis": {
           "colorbar": {
            "outlinewidth": 0,
            "ticks": ""
           }
          },
          "colorscale": {
           "diverging": [
            [
             0,
             "#8e0152"
            ],
            [
             0.1,
             "#c51b7d"
            ],
            [
             0.2,
             "#de77ae"
            ],
            [
             0.3,
             "#f1b6da"
            ],
            [
             0.4,
             "#fde0ef"
            ],
            [
             0.5,
             "#f7f7f7"
            ],
            [
             0.6,
             "#e6f5d0"
            ],
            [
             0.7,
             "#b8e186"
            ],
            [
             0.8,
             "#7fbc41"
            ],
            [
             0.9,
             "#4d9221"
            ],
            [
             1,
             "#276419"
            ]
           ],
           "sequential": [
            [
             0,
             "#0d0887"
            ],
            [
             0.1111111111111111,
             "#46039f"
            ],
            [
             0.2222222222222222,
             "#7201a8"
            ],
            [
             0.3333333333333333,
             "#9c179e"
            ],
            [
             0.4444444444444444,
             "#bd3786"
            ],
            [
             0.5555555555555556,
             "#d8576b"
            ],
            [
             0.6666666666666666,
             "#ed7953"
            ],
            [
             0.7777777777777778,
             "#fb9f3a"
            ],
            [
             0.8888888888888888,
             "#fdca26"
            ],
            [
             1,
             "#f0f921"
            ]
           ],
           "sequentialminus": [
            [
             0,
             "#0d0887"
            ],
            [
             0.1111111111111111,
             "#46039f"
            ],
            [
             0.2222222222222222,
             "#7201a8"
            ],
            [
             0.3333333333333333,
             "#9c179e"
            ],
            [
             0.4444444444444444,
             "#bd3786"
            ],
            [
             0.5555555555555556,
             "#d8576b"
            ],
            [
             0.6666666666666666,
             "#ed7953"
            ],
            [
             0.7777777777777778,
             "#fb9f3a"
            ],
            [
             0.8888888888888888,
             "#fdca26"
            ],
            [
             1,
             "#f0f921"
            ]
           ]
          },
          "colorway": [
           "#636efa",
           "#EF553B",
           "#00cc96",
           "#ab63fa",
           "#FFA15A",
           "#19d3f3",
           "#FF6692",
           "#B6E880",
           "#FF97FF",
           "#FECB52"
          ],
          "font": {
           "color": "#2a3f5f"
          },
          "geo": {
           "bgcolor": "white",
           "lakecolor": "white",
           "landcolor": "white",
           "showlakes": true,
           "showland": true,
           "subunitcolor": "#C8D4E3"
          },
          "hoverlabel": {
           "align": "left"
          },
          "hovermode": "closest",
          "mapbox": {
           "style": "light"
          },
          "paper_bgcolor": "white",
          "plot_bgcolor": "white",
          "polar": {
           "angularaxis": {
            "gridcolor": "#EBF0F8",
            "linecolor": "#EBF0F8",
            "ticks": ""
           },
           "bgcolor": "white",
           "radialaxis": {
            "gridcolor": "#EBF0F8",
            "linecolor": "#EBF0F8",
            "ticks": ""
           }
          },
          "scene": {
           "xaxis": {
            "backgroundcolor": "white",
            "gridcolor": "#DFE8F3",
            "gridwidth": 2,
            "linecolor": "#EBF0F8",
            "showbackground": true,
            "ticks": "",
            "zerolinecolor": "#EBF0F8"
           },
           "yaxis": {
            "backgroundcolor": "white",
            "gridcolor": "#DFE8F3",
            "gridwidth": 2,
            "linecolor": "#EBF0F8",
            "showbackground": true,
            "ticks": "",
            "zerolinecolor": "#EBF0F8"
           },
           "zaxis": {
            "backgroundcolor": "white",
            "gridcolor": "#DFE8F3",
            "gridwidth": 2,
            "linecolor": "#EBF0F8",
            "showbackground": true,
            "ticks": "",
            "zerolinecolor": "#EBF0F8"
           }
          },
          "shapedefaults": {
           "line": {
            "color": "#2a3f5f"
           }
          },
          "ternary": {
           "aaxis": {
            "gridcolor": "#DFE8F3",
            "linecolor": "#A2B1C6",
            "ticks": ""
           },
           "baxis": {
            "gridcolor": "#DFE8F3",
            "linecolor": "#A2B1C6",
            "ticks": ""
           },
           "bgcolor": "white",
           "caxis": {
            "gridcolor": "#DFE8F3",
            "linecolor": "#A2B1C6",
            "ticks": ""
           }
          },
          "title": {
           "x": 0.05
          },
          "xaxis": {
           "automargin": true,
           "gridcolor": "#EBF0F8",
           "linecolor": "#EBF0F8",
           "ticks": "",
           "title": {
            "standoff": 15
           },
           "zerolinecolor": "#EBF0F8",
           "zerolinewidth": 2
          },
          "yaxis": {
           "automargin": true,
           "gridcolor": "#EBF0F8",
           "linecolor": "#EBF0F8",
           "ticks": "",
           "title": {
            "standoff": 15
           },
           "zerolinecolor": "#EBF0F8",
           "zerolinewidth": 2
          }
         }
        },
        "title": {
         "text": "Évolution du temps de rendu au fil des itérations"
        },
        "xaxis": {
         "title": {
          "text": "Itération"
         }
        },
        "yaxis": {
         "title": {
          "text": "Temps de rendu (en ms)"
         }
        }
       }
      }
     },
     "metadata": {},
     "output_type": "display_data"
    }
   ],
   "source": [
    "fig = go.Figure()\n",
    "\n",
    "fig.add_trace(go.Scatter(\n",
    "    x=seq_rendering_results.index,\n",
    "    y=seq_rendering_results[\"Rendering time\"],\n",
    "    name=\"Calcul séquentiel\",\n",
    "    line=dict(color=\"darkblue\")\n",
    "))\n",
    "\n",
    "fig.add_trace(go.Scatter(\n",
    "    x=par_step_2_rendering_results.index,\n",
    "    y=par_step_2_rendering_results[\"Rendering time\"],\n",
    "    name=\"Calcul parallèle (Étape 2)\",\n",
    "    line=dict(color=\"darkgreen\")\n",
    "))\n",
    "\n",
    "fig.add_trace(go.Scatter(\n",
    "    x=par_step_3_rendering_results.index,\n",
    "    y=par_step_3_rendering_results[\"Rendering time\"],\n",
    "    name=\"Calcul parallèle (Étape 3)\",\n",
    "    line=dict(color=\"darkred\")\n",
    "))\n",
    "\n",
    "fig.update_layout(\n",
    "    title=\"Évolution du temps de rendu au fil des itérations\",\n",
    "    xaxis_title=\"Itération\",\n",
    "    yaxis_title=\"Temps de rendu (en ms)\",\n",
    "    template=\"plotly_white\"\n",
    ")\n",
    "\n",
    "fig.show()"
   ]
  }
 ],
 "metadata": {
  "kernelspec": {
   "display_name": "venv",
   "language": "python",
   "name": "python3"
  },
  "language_info": {
   "codemirror_mode": {
    "name": "ipython",
    "version": 3
   },
   "file_extension": ".py",
   "mimetype": "text/x-python",
   "name": "python",
   "nbconvert_exporter": "python",
   "pygments_lexer": "ipython3",
   "version": "3.9.6"
  }
 },
 "nbformat": 4,
 "nbformat_minor": 2
}
